{
 "cells": [
  {
   "cell_type": "code",
   "execution_count": 1,
   "metadata": {
    "id": "MF7BncmmLBeO"
   },
   "outputs": [],
   "source": [
    "import os\n",
    "\n",
    "import numpy as np\n",
    "import matplotlib.pyplot as plt\n",
    "import torch\n",
    "from sklearn.datasets import load_digits\n",
    "from sklearn import datasets\n",
    "from torch.utils.data import Dataset, DataLoader\n",
    "import torch.nn as nn\n",
    "import torch.nn.functional as F\n",
    "import torchvision.transforms as tt"
   ]
  },
  {
   "cell_type": "markdown",
   "metadata": {},
   "source": [
    "**DISCLAIMER**\n",
    "\n",
    "The presented code is not optimized, it serves an educational purpose. It is written for CPU, it uses only fully-connected networks and an extremely simplistic dataset. However, it contains all components that can help to understand how Generative Adversarial Networks (GANs) work, and it should be rather easy to extend it to more sophisticated models. This code could be run almost on any laptop/PC, and it takes a couple of minutes top to get the result."
   ]
  },
  {
   "cell_type": "markdown",
   "metadata": {
    "id": "RKsmjLumL5A2"
   },
   "source": [
    "## Dataset: Digits"
   ]
  },
  {
   "cell_type": "markdown",
   "metadata": {},
   "source": [
    "In this example, we go wild and use a dataset that is simpler than MNIST! We use a scipy dataset called Digits. It consists of ~1500 images of size 8x8, and each pixel can take values in $\\{0, 1, \\ldots, 16\\}$.\n",
    "\n",
    "The goal of using this dataset is that everyone can run it on a laptop, without any gpu etc."
   ]
  },
  {
   "cell_type": "code",
   "execution_count": 2,
   "metadata": {
    "id": "hSWUnXAYLLif"
   },
   "outputs": [],
   "source": [
    "class Digits(Dataset):\n",
    "    \"\"\"Scikit-Learn Digits dataset.\"\"\"\n",
    "\n",
    "    def __init__(self, mode='train', transforms=None):\n",
    "        digits = load_digits()\n",
    "        if mode == 'train':\n",
    "            self.data = digits.data[:1000].astype(np.float32)\n",
    "        elif mode == 'val':\n",
    "            self.data = digits.data[1000:1350].astype(np.float32)\n",
    "        else:\n",
    "            self.data = digits.data[1350:].astype(np.float32)\n",
    "\n",
    "        self.transforms = transforms\n",
    "\n",
    "    def __len__(self):\n",
    "        return len(self.data)\n",
    "\n",
    "    def __getitem__(self, idx):\n",
    "        sample = self.data[idx]\n",
    "        if self.transforms:\n",
    "            sample = self.transforms(sample)\n",
    "        return sample"
   ]
  },
  {
   "cell_type": "markdown",
   "metadata": {
    "id": "qSP2qiMqMICK"
   },
   "source": [
    "## GANs"
   ]
  },
  {
   "cell_type": "markdown",
   "metadata": {
    "id": "znlDY599MRLy"
   },
   "source": [
    "### Generator"
   ]
  },
  {
   "cell_type": "code",
   "execution_count": 3,
   "metadata": {
    "id": "x5Q8Iz41LTAj"
   },
   "outputs": [],
   "source": [
    "class Generator(nn.Module):\n",
    "    def __init__(self, generator_net, z_size):\n",
    "        super(Generator, self).__init__()\n",
    "        \n",
    "        # We need to init the generator neural net.\n",
    "        self.generator_net = generator_net\n",
    "        # We also need to know the size of the latents.\n",
    "        self.z_size = z_size\n",
    "\n",
    "    def generate(self, z):\n",
    "        # Generating for given z is equivalent to applying the neural net.\n",
    "        return self.generator_net(z)\n",
    "\n",
    "    def sample(self, batch_size=16):\n",
    "        # For sampling, we need to sample first latents.\n",
    "        z = torch.randn(batch_size, self.z_size)\n",
    "        return self.generate(z)\n",
    "\n",
    "    def forward(self, z=None):\n",
    "        if z is None:\n",
    "            return self.sample()\n",
    "        else:\n",
    "            return self.generate(z)"
   ]
  },
  {
   "cell_type": "markdown",
   "metadata": {
    "id": "m_fYlZJiMSih"
   },
   "source": [
    "### Discriminator"
   ]
  },
  {
   "cell_type": "code",
   "execution_count": 4,
   "metadata": {
    "id": "xJYhNXulLUhz"
   },
   "outputs": [],
   "source": [
    "class Discriminator(nn.Module):\n",
    "    def __init__(self, discriminator_net):\n",
    "        super(Discriminator, self).__init__()\n",
    "        # We need to init the discriminator neural net.\n",
    "        self.discriminator_net = discriminator_net\n",
    "\n",
    "    def forward(self, x):\n",
    "        # The forward pass is just about applying the neural net.\n",
    "        return self.discriminator_net(x)"
   ]
  },
  {
   "cell_type": "markdown",
   "metadata": {
    "id": "sCoRJeYpMToZ"
   },
   "source": [
    "### GAN"
   ]
  },
  {
   "cell_type": "code",
   "execution_count": 5,
   "metadata": {
    "id": "GRYA6JA4LWEC"
   },
   "outputs": [],
   "source": [
    "class GAN(nn.Module):\n",
    "    def __init__(self, generator, discriminator, EPS=1.e-5):\n",
    "        super(GAN, self).__init__()\n",
    "\n",
    "        print('GAN by JT.')\n",
    "        \n",
    "        # To put everything together, we need the generator and \n",
    "        # the discriminator. NOTE: Both are intanced of classes!\n",
    "        self.generator = generator\n",
    "        self.discriminator = discriminator\n",
    "        \n",
    "        # For numerical issue, we introduce a small epsilon.\n",
    "        self.EPS = EPS\n",
    "\n",
    "    def forward(self, x_real, reduction='avg', mode='discriminator'):\n",
    "        # The forward pass calculates the adversarial loss.\n",
    "        # More specifically, either its part for the generator or\n",
    "        #  the part for the discriminator.\n",
    "        if mode == 'generator':\n",
    "            # For the generator, we first sample FAKE data.\n",
    "            x_fake_gen = self.generator.sample(x_real.shape[0])\n",
    "\n",
    "            # Then, we calculate outputs of the discriminator for the FAKE data.\n",
    "            # NOTE: We clamp here for the numerical stability later on.\n",
    "            d_fake = torch.clamp(self.discriminator(x_fake_gen), self.EPS, 1. - self.EPS)\n",
    "            \n",
    "            # The loss for the generator is log(1 - D(G(z))).\n",
    "            loss = torch.log(1. - d_fake)\n",
    "\n",
    "        elif mode == 'discriminator':\n",
    "            # For the discriminator, we first sample FAKE data.\n",
    "            x_fake_gen = self.generator.sample(x_real.shape[0])\n",
    "\n",
    "            # Then, we calculate outputs of the discriminator for the FAKE data.\n",
    "            # NOTE: We clamp for the numerical stability later on.\n",
    "            d_fake = torch.clamp(self.discriminator(x_fake_gen), self.EPS, 1. - self.EPS)\n",
    "            \n",
    "            # Moreover, we calculate outputs of the discriminator for the REAL data.\n",
    "            # NOTE: We clamp for... the numerical stability (again).\n",
    "            d_real = torch.clamp(self.discriminator(x_real), self.EPS, 1. - self.EPS)\n",
    "\n",
    "            # The final loss for the discriminator is log(1 - D(G(z))) + log D(x).\n",
    "            # NOTE: We take the minus sign because we MAXIMIZE the adversarial loss wrt \n",
    "            # discriminator, so we MINIMIZE the negative adversarial loss wrt discriminator.\n",
    "            loss = -(torch.log(d_real) + torch.log(1. - d_fake))\n",
    "        \n",
    "        if reduction == 'sum':\n",
    "            return loss.sum()\n",
    "        else:\n",
    "            return loss.mean()\n",
    "\n",
    "    def sample(self, batch_size=64):\n",
    "        return self.generator.sample(batch_size=batch_size)"
   ]
  },
  {
   "cell_type": "markdown",
   "metadata": {
    "id": "vUoPkTmrMVnx"
   },
   "source": [
    "## Evaluation and Training functions"
   ]
  },
  {
   "cell_type": "markdown",
   "metadata": {
    "id": "JvwmRoi7MVto"
   },
   "source": [
    "**Evaluation step, sampling and curve plotting**"
   ]
  },
  {
   "cell_type": "code",
   "execution_count": null,
   "metadata": {
    "id": "JHx4RIqDLZe9"
   },
   "outputs": [],
   "source": [
    "def evaluation(test_loader, name=None, model_best=None, epoch=None):\n",
    "    # EVALUATION\n",
    "    if model_best is None:\n",
    "        # load best performing model\n",
    "        model_best = torch.load(name + '.model')\n",
    "\n",
    "    model_best.eval()\n",
    "    loss_gen = 0.\n",
    "    loss_dis = 0.\n",
    "    N = 0.\n",
    "    for indx_batch, test_batch in enumerate(test_loader):\n",
    "        loss_t_gen = model_best.forward(test_batch, reduction='sum', mode='generator')\n",
    "        loss_t_dis = model_best.forward(test_batch, reduction='sum', mode='discriminator')\n",
    "        \n",
    "        loss_gen = loss_gen + loss_t_gen.item()\n",
    "        loss_dis = loss_dis + loss_t_dis.item()\n",
    "        \n",
    "        N = N + test_batch.shape[0]\n",
    "    \n",
    "    loss_gen = loss_gen / N\n",
    "    loss_dis = loss_dis / N\n",
    "\n",
    "    if epoch is None:\n",
    "        print(f'FINAL LOSS: gen={loss_gen}, dis={loss_dis}')\n",
    "    else:\n",
    "        print(f'Epoch: {epoch}, val gen={loss_dis}, val dis={loss_dis}')\n",
    "\n",
    "    return loss_gen, loss_dis\n",
    "\n",
    "\n",
    "def samples_real(name, test_loader):\n",
    "    # REAL-------\n",
    "    num_x = 4\n",
    "    num_y = 4\n",
    "    x = next(iter(test_loader)).detach().numpy()\n",
    "\n",
    "    fig, ax = plt.subplots(num_x, num_y)\n",
    "    for i, ax in enumerate(ax.flatten()):\n",
    "        plottable_image = np.reshape(x[i], (8, 8))\n",
    "        ax.imshow(plottable_image, cmap='gray')\n",
    "        ax.axis('off')\n",
    "\n",
    "    plt.savefig(name+'_real_images.pdf', bbox_inches='tight')\n",
    "    plt.close()\n",
    "\n",
    "\n",
    "def samples_generated(name, data_loader, extra_name=''):\n",
    "    x = next(iter(data_loader)).detach().numpy()\n",
    "\n",
    "    # GENERATIONS-------\n",
    "    model_best = torch.load(name + '.model')\n",
    "    model_best.eval()\n",
    "\n",
    "    num_x = 4\n",
    "    num_y = 4\n",
    "    x = model_best.sample(num_x * num_y)\n",
    "    x = x.detach().numpy()\n",
    "\n",
    "    fig, ax = plt.subplots(num_x, num_y)\n",
    "    for i, ax in enumerate(ax.flatten()):\n",
    "        plottable_image = np.reshape(x[i], (8, 8))\n",
    "        ax.imshow(plottable_image, cmap='gray')\n",
    "        ax.axis('off')\n",
    "\n",
    "    # plt.savefig(name + '_generated_images' + extra_name + '.pdf', bbox_inches='tight')\n",
    "    # plt.close()\n",
    "\n",
    "\n",
    "def plot_curve(name, nll_val, xaxis='epochs', yaxis='nll'):\n",
    "    plt.plot(np.arange(len(nll_val)), nll_val, linewidth='3')\n",
    "    plt.xlabel(xaxis)\n",
    "    plt.ylabel(yaxis)\n",
    "    plt.savefig(name + '_nll_val_curve.pdf', bbox_inches='tight')\n",
    "    plt.close()"
   ]
  },
  {
   "cell_type": "markdown",
   "metadata": {
    "id": "umU3VYKzMbDt"
   },
   "source": [
    "**Training step**"
   ]
  },
  {
   "cell_type": "code",
   "execution_count": 7,
   "metadata": {
    "id": "NxkUZ1xVLbm_"
   },
   "outputs": [],
   "source": [
    "def training(name, num_epochs, model, optimizer_gen, optimizer_dis, training_loader, val_loader):\n",
    "    gen_val = []\n",
    "    dis_val = []\n",
    "    best_loss = 1000.\n",
    "    patience = 0\n",
    "\n",
    "    # Main loop\n",
    "    for e in range(num_epochs):\n",
    "        # TRAINING\n",
    "        model.train()\n",
    "        for indx_batch, batch in enumerate(training_loader):\n",
    "            \n",
    "            # -Discriminator\n",
    "            loss_dis = model.forward(batch, mode='discriminator')\n",
    "                        \n",
    "            optimizer_dis.zero_grad()\n",
    "            optimizer_gen.zero_grad()\n",
    "            loss_dis.backward(retain_graph=True)\n",
    "            optimizer_dis.step()\n",
    "            \n",
    "            # -Generator\n",
    "            loss_gen = model.forward(batch, mode='generator')\n",
    "            \n",
    "            optimizer_dis.zero_grad()\n",
    "            optimizer_gen.zero_grad()\n",
    "            loss_gen.backward(retain_graph=True)\n",
    "            optimizer_gen.step()\n",
    "\n",
    "        # Validation\n",
    "        loss_val_gen, loss_val_dis = evaluation(val_loader, model_best=model, epoch=e)\n",
    "        gen_val.append(loss_val_gen)  # save for plotting\n",
    "        dis_val.append(loss_val_dis)  # save for plotting\n",
    "        \n",
    "        torch.save(model, name + '.model')\n",
    "        samples_generated(name, val_loader, extra_name=\"_epoch_\" + str(e))\n",
    "\n",
    "    gen_val = np.asarray(gen_val)\n",
    "    dis_val = np.asarray(dis_val)\n",
    "\n",
    "    return gen_val, dis_val"
   ]
  },
  {
   "cell_type": "markdown",
   "metadata": {
    "id": "0BXJ9dN0MinB"
   },
   "source": [
    "## Experiments"
   ]
  },
  {
   "cell_type": "markdown",
   "metadata": {
    "id": "KsF7f-Q-MkWu"
   },
   "source": [
    "**Initialize datasets**"
   ]
  },
  {
   "cell_type": "code",
   "execution_count": 8,
   "metadata": {},
   "outputs": [],
   "source": [
    "transforms_train = tt.Compose( [tt.Lambda(lambda x: 2*(x / 17.)-1.),\n",
    "                              tt.Lambda(lambda x: torch.from_numpy(x)),\n",
    "                              tt.Lambda(lambda x: x + 0.03 * torch.randn_like(x))\n",
    "                              ])\n",
    "\n",
    "transforms_val  = tt.Compose( [tt.Lambda(lambda x: 2*(x / 17.)-1.),\n",
    "                               tt.Lambda(lambda x: torch.from_numpy(x)),\n",
    "                               ])"
   ]
  },
  {
   "cell_type": "code",
   "execution_count": 9,
   "metadata": {
    "id": "fqZKMNM0LdQ1"
   },
   "outputs": [],
   "source": [
    "train_data = Digits(mode='train', transforms=transforms_train)\n",
    "val_data = Digits(mode='val', transforms=transforms_val)\n",
    "test_data = Digits(mode='test', transforms=transforms_val)\n",
    "\n",
    "training_loader = DataLoader(train_data, batch_size=64, shuffle=True)\n",
    "val_loader = DataLoader(val_data, batch_size=64, shuffle=False)\n",
    "test_loader = DataLoader(test_data, batch_size=64, shuffle=False)"
   ]
  },
  {
   "cell_type": "markdown",
   "metadata": {
    "id": "6lEKUznpMns7"
   },
   "source": [
    "**Hyperparameters**"
   ]
  },
  {
   "cell_type": "code",
   "execution_count": 10,
   "metadata": {
    "id": "ANQo7LrGLjIN"
   },
   "outputs": [],
   "source": [
    "D = 64   # input dimension\n",
    "L = 16 # number of latents\n",
    "M = 128  # the number of neurons in scale (s) and translation (t) nets\n",
    "\n",
    "lr_gen = 3e-4 # learning rate\n",
    "lr_dis = 3e-4 # learning rate\n",
    "num_epochs = 500 # max. number of epochs"
   ]
  },
  {
   "cell_type": "markdown",
   "metadata": {
    "id": "-7APXeunMrDh"
   },
   "source": [
    "**Creating a folder for results**"
   ]
  },
  {
   "cell_type": "code",
   "execution_count": 11,
   "metadata": {
    "id": "bjSUn1eWLkWm"
   },
   "outputs": [],
   "source": [
    "if not(os.path.exists('results')):\n",
    "    os.mkdir('results')\n",
    "name = 'gan_' + str(L)\n",
    "result_dir ='results/' + name + '/'\n",
    "if not(os.path.exists(result_dir)):\n",
    "    os.mkdir(result_dir)"
   ]
  },
  {
   "cell_type": "markdown",
   "metadata": {
    "id": "Hpwm6LWUMulQ"
   },
   "source": [
    "**Initializing the model: (i) determining the conditional likelihood distribution, (ii) defininig encoder and decoder nets, and a prior**"
   ]
  },
  {
   "cell_type": "code",
   "execution_count": 12,
   "metadata": {
    "colab": {
     "base_uri": "https://localhost:8080/"
    },
    "id": "FrnNsCqQLmK3",
    "outputId": "5f0cf2b1-0a96-4f5c-da9e-f78f909a5259"
   },
   "outputs": [
    {
     "name": "stdout",
     "output_type": "stream",
     "text": [
      "GAN by JT.\n"
     ]
    }
   ],
   "source": [
    "# First, we initialize the generator and the discriminator\n",
    "# -generator\n",
    "generator_net = nn.Sequential(nn.Linear(L, M), nn.ReLU(),\n",
    "                              nn.Linear(M, D), nn.Tanh())\n",
    "\n",
    "generator = Generator(generator_net, z_size=L)\n",
    "\n",
    "# -discriminator\n",
    "discriminator_net = nn.Sequential(nn.Linear(D, M), nn.ReLU(),\n",
    "                                  nn.Linear(M, 1), nn.Sigmoid())\n",
    "\n",
    "discriminator = Discriminator(discriminator_net)\n",
    "\n",
    "# Eventually, we initialize the full model\n",
    "model = GAN(generator=generator, discriminator=discriminator)"
   ]
  },
  {
   "cell_type": "markdown",
   "metadata": {
    "id": "3SzTemY3NSxO"
   },
   "source": [
    "**Optimizer - here we use Adamax**"
   ]
  },
  {
   "cell_type": "code",
   "execution_count": 13,
   "metadata": {
    "id": "R9TZtLVtLoWc"
   },
   "outputs": [],
   "source": [
    "# OPTIMIZER\n",
    "optimizer_gen = torch.optim.Adam(model.generator.parameters(), lr=lr_gen)\n",
    "optimizer_dis = torch.optim.Adam(model.discriminator.parameters(), lr=lr_dis)"
   ]
  },
  {
   "cell_type": "markdown",
   "metadata": {
    "id": "dNf__W_ONVHA"
   },
   "source": [
    "**Training loop**"
   ]
  },
  {
   "cell_type": "code",
   "execution_count": 14,
   "metadata": {
    "colab": {
     "base_uri": "https://localhost:8080/"
    },
    "id": "KhqHgluGLqIC",
    "outputId": "c52fa1e4-3376-4bff-9f87-6f03613c4e42"
   },
   "outputs": [
    {
     "name": "stdout",
     "output_type": "stream",
     "text": [
      "Epoch: 0, val gen=1.2863890620640346, val dis=1.2863890620640346\n",
      "Epoch: 1, val gen=1.180949467250279, val dis=1.180949467250279\n",
      "Epoch: 2, val gen=1.1589967782156807, val dis=1.1589967782156807\n",
      "Epoch: 3, val gen=1.218911863054548, val dis=1.218911863054548\n",
      "Epoch: 4, val gen=1.2869465637207032, val dis=1.2869465637207032\n",
      "Epoch: 5, val gen=1.2630030277797153, val dis=1.2630030277797153\n"
     ]
    },
    {
     "name": "stderr",
     "output_type": "stream",
     "text": [
      "/var/folders/87/zv8dxhh11ml31r07v761nk340000gn/T/ipykernel_33450/3141414528.py:51: FutureWarning: You are using `torch.load` with `weights_only=False` (the current default value), which uses the default pickle module implicitly. It is possible to construct malicious pickle data which will execute arbitrary code during unpickling (See https://github.com/pytorch/pytorch/blob/main/SECURITY.md#untrusted-models for more details). In a future release, the default value for `weights_only` will be flipped to `True`. This limits the functions that could be executed during unpickling. Arbitrary objects will no longer be allowed to be loaded via this mode unless they are explicitly allowlisted by the user via `torch.serialization.add_safe_globals`. We recommend you start setting `weights_only=True` for any use case where you don't have full control of the loaded file. Please open an issue on GitHub for any issues related to this experimental feature.\n",
      "  model_best = torch.load(name + '.model')\n"
     ]
    },
    {
     "name": "stdout",
     "output_type": "stream",
     "text": [
      "Epoch: 6, val gen=1.178427036830357, val dis=1.178427036830357\n",
      "Epoch: 7, val gen=1.138187789916992, val dis=1.138187789916992\n",
      "Epoch: 8, val gen=1.2543962751116071, val dis=1.2543962751116071\n",
      "Epoch: 9, val gen=1.427652141026088, val dis=1.427652141026088\n",
      "Epoch: 10, val gen=1.486539328438895, val dis=1.486539328438895\n",
      "Epoch: 11, val gen=1.3580525207519532, val dis=1.3580525207519532\n",
      "Epoch: 12, val gen=1.1711127471923828, val dis=1.1711127471923828\n",
      "Epoch: 13, val gen=1.0415945271083287, val dis=1.0415945271083287\n",
      "Epoch: 14, val gen=1.0099830082484653, val dis=1.0099830082484653\n",
      "Epoch: 15, val gen=1.0640319388253348, val dis=1.0640319388253348\n",
      "Epoch: 16, val gen=1.2002518354143414, val dis=1.2002518354143414\n",
      "Epoch: 17, val gen=1.4011721910749162, val dis=1.4011721910749162\n",
      "Epoch: 18, val gen=1.5225934600830078, val dis=1.5225934600830078\n",
      "Epoch: 19, val gen=1.4212082127162389, val dis=1.4212082127162389\n",
      "Epoch: 20, val gen=1.140440924508231, val dis=1.140440924508231\n",
      "Epoch: 21, val gen=0.9029194859095983, val dis=0.9029194859095983\n",
      "Epoch: 22, val gen=0.7634485408238002, val dis=0.7634485408238002\n",
      "Epoch: 23, val gen=0.7521193804059709, val dis=0.7521193804059709\n",
      "Epoch: 24, val gen=0.8115426090785435, val dis=0.8115426090785435\n",
      "Epoch: 25, val gen=0.9748499734061105, val dis=0.9748499734061105\n",
      "Epoch: 26, val gen=1.2291667938232422, val dis=1.2291667938232422\n",
      "Epoch: 27, val gen=1.371832994733538, val dis=1.371832994733538\n",
      "Epoch: 28, val gen=1.1625541904994419, val dis=1.1625541904994419\n",
      "Epoch: 29, val gen=0.9517138344900948, val dis=0.9517138344900948\n",
      "Epoch: 30, val gen=0.8475913456508092, val dis=0.8475913456508092\n",
      "Epoch: 31, val gen=0.8366006851196289, val dis=0.8366006851196289\n",
      "Epoch: 32, val gen=0.9095228740147182, val dis=0.9095228740147182\n",
      "Epoch: 33, val gen=1.0823887470790319, val dis=1.0823887470790319\n",
      "Epoch: 34, val gen=1.362467564174107, val dis=1.362467564174107\n",
      "Epoch: 35, val gen=1.5605990709577289, val dis=1.5605990709577289\n",
      "Epoch: 36, val gen=1.2474583871023996, val dis=1.2474583871023996\n",
      "Epoch: 37, val gen=0.919402563912528, val dis=0.919402563912528\n",
      "Epoch: 38, val gen=0.780845707484654, val dis=0.780845707484654\n",
      "Epoch: 39, val gen=0.7624582072666714, val dis=0.7624582072666714\n",
      "Epoch: 40, val gen=0.8401620537894112, val dis=0.8401620537894112\n",
      "Epoch: 41, val gen=1.007130323137556, val dis=1.007130323137556\n",
      "Epoch: 42, val gen=1.1894498116629464, val dis=1.1894498116629464\n",
      "Epoch: 43, val gen=1.2843230547223772, val dis=1.2843230547223772\n",
      "Epoch: 44, val gen=1.2656526729038784, val dis=1.2656526729038784\n",
      "Epoch: 45, val gen=1.123245359148298, val dis=1.123245359148298\n",
      "Epoch: 46, val gen=0.9693174035208566, val dis=0.9693174035208566\n",
      "Epoch: 47, val gen=0.8468208367483957, val dis=0.8468208367483957\n",
      "Epoch: 48, val gen=0.8499931934901647, val dis=0.8499931934901647\n",
      "Epoch: 49, val gen=0.8885754558018276, val dis=0.8885754558018276\n",
      "Epoch: 50, val gen=0.980234876360212, val dis=0.980234876360212\n",
      "Epoch: 51, val gen=1.0445065525599888, val dis=1.0445065525599888\n",
      "Epoch: 52, val gen=1.1791107286725726, val dis=1.1791107286725726\n",
      "Epoch: 53, val gen=1.2600003923688616, val dis=1.2600003923688616\n",
      "Epoch: 54, val gen=1.2156703622000558, val dis=1.2156703622000558\n",
      "Epoch: 55, val gen=1.124694551740374, val dis=1.124694551740374\n",
      "Epoch: 56, val gen=1.0204781287057059, val dis=1.0204781287057059\n",
      "Epoch: 57, val gen=1.0082420349121093, val dis=1.0082420349121093\n",
      "Epoch: 58, val gen=1.055354243687221, val dis=1.055354243687221\n",
      "Epoch: 59, val gen=1.2013484518868582, val dis=1.2013484518868582\n",
      "Epoch: 60, val gen=1.2663322121756417, val dis=1.2663322121756417\n",
      "Epoch: 61, val gen=1.3593946293422154, val dis=1.3593946293422154\n",
      "Epoch: 62, val gen=1.4186654881068639, val dis=1.4186654881068639\n",
      "Epoch: 63, val gen=1.4084625244140625, val dis=1.4084625244140625\n",
      "Epoch: 64, val gen=1.3216627502441407, val dis=1.3216627502441407\n",
      "Epoch: 65, val gen=1.2288321358816965, val dis=1.2288321358816965\n",
      "Epoch: 66, val gen=1.042837540762765, val dis=1.042837540762765\n",
      "Epoch: 67, val gen=0.8443386295863561, val dis=0.8443386295863561\n",
      "Epoch: 68, val gen=0.8034525844029018, val dis=0.8034525844029018\n",
      "Epoch: 69, val gen=0.806414794921875, val dis=0.806414794921875\n",
      "Epoch: 70, val gen=0.8522766712733677, val dis=0.8522766712733677\n",
      "Epoch: 71, val gen=1.1202922712053571, val dis=1.1202922712053571\n",
      "Epoch: 72, val gen=1.580191127232143, val dis=1.580191127232143\n",
      "Epoch: 73, val gen=1.6886031014578684, val dis=1.6886031014578684\n",
      "Epoch: 74, val gen=1.2774891880580357, val dis=1.2774891880580357\n",
      "Epoch: 75, val gen=0.8024070412772042, val dis=0.8024070412772042\n",
      "Epoch: 76, val gen=0.5937732751028878, val dis=0.5937732751028878\n",
      "Epoch: 77, val gen=0.5289697265625, val dis=0.5289697265625\n",
      "Epoch: 78, val gen=0.5684870038713727, val dis=0.5684870038713727\n",
      "Epoch: 79, val gen=0.6771731567382813, val dis=0.6771731567382813\n",
      "Epoch: 80, val gen=0.8481613322666713, val dis=0.8481613322666713\n",
      "Epoch: 81, val gen=1.1047388076782227, val dis=1.1047388076782227\n",
      "Epoch: 82, val gen=1.2584478759765625, val dis=1.2584478759765625\n",
      "Epoch: 83, val gen=1.3819673701695034, val dis=1.3819673701695034\n",
      "Epoch: 84, val gen=1.3832283891950334, val dis=1.3832283891950334\n",
      "Epoch: 85, val gen=1.3047194453648159, val dis=1.3047194453648159\n",
      "Epoch: 86, val gen=1.2241634586879184, val dis=1.2241634586879184\n",
      "Epoch: 87, val gen=1.0636287362234933, val dis=1.0636287362234933\n",
      "Epoch: 88, val gen=0.953535624912807, val dis=0.953535624912807\n",
      "Epoch: 89, val gen=0.940772236415318, val dis=0.940772236415318\n",
      "Epoch: 90, val gen=1.0655220249720982, val dis=1.0655220249720982\n",
      "Epoch: 91, val gen=1.1954266357421874, val dis=1.1954266357421874\n",
      "Epoch: 92, val gen=1.284623783656529, val dis=1.284623783656529\n",
      "Epoch: 93, val gen=1.2697855486188616, val dis=1.2697855486188616\n",
      "Epoch: 94, val gen=1.2378373064313617, val dis=1.2378373064313617\n",
      "Epoch: 95, val gen=1.0986598096575055, val dis=1.0986598096575055\n",
      "Epoch: 96, val gen=0.9601313945225307, val dis=0.9601313945225307\n",
      "Epoch: 97, val gen=0.8599517386300223, val dis=0.8599517386300223\n",
      "Epoch: 98, val gen=0.8929352896554129, val dis=0.8929352896554129\n",
      "Epoch: 99, val gen=1.0549457223074776, val dis=1.0549457223074776\n",
      "Epoch: 100, val gen=1.348744397844587, val dis=1.348744397844587\n",
      "Epoch: 101, val gen=1.6412672315325056, val dis=1.6412672315325056\n",
      "Epoch: 102, val gen=1.8230093274797712, val dis=1.8230093274797712\n",
      "Epoch: 103, val gen=1.782204099382673, val dis=1.782204099382673\n",
      "Epoch: 104, val gen=1.4958472551618303, val dis=1.4958472551618303\n",
      "Epoch: 105, val gen=1.231227024623326, val dis=1.231227024623326\n",
      "Epoch: 106, val gen=1.1248490033830916, val dis=1.1248490033830916\n",
      "Epoch: 107, val gen=1.1637147630964007, val dis=1.1637147630964007\n",
      "Epoch: 108, val gen=1.244025650024414, val dis=1.244025650024414\n",
      "Epoch: 109, val gen=1.4104964011056083, val dis=1.4104964011056083\n",
      "Epoch: 110, val gen=1.5155976431710378, val dis=1.5155976431710378\n",
      "Epoch: 111, val gen=1.4258521379743303, val dis=1.4258521379743303\n",
      "Epoch: 112, val gen=1.2659239414760044, val dis=1.2659239414760044\n",
      "Epoch: 113, val gen=1.0866554587227957, val dis=1.0866554587227957\n",
      "Epoch: 114, val gen=1.050033972603934, val dis=1.050033972603934\n",
      "Epoch: 115, val gen=1.0788792255946569, val dis=1.0788792255946569\n",
      "Epoch: 116, val gen=1.198707318987165, val dis=1.198707318987165\n",
      "Epoch: 117, val gen=1.2311041913713727, val dis=1.2311041913713727\n",
      "Epoch: 118, val gen=1.2047881426130023, val dis=1.2047881426130023\n",
      "Epoch: 119, val gen=1.1278648267473492, val dis=1.1278648267473492\n",
      "Epoch: 120, val gen=1.0994418116978237, val dis=1.0994418116978237\n",
      "Epoch: 121, val gen=1.1841212790352957, val dis=1.1841212790352957\n",
      "Epoch: 122, val gen=1.2884761156354632, val dis=1.2884761156354632\n",
      "Epoch: 123, val gen=1.4722739846365793, val dis=1.4722739846365793\n",
      "Epoch: 124, val gen=1.6859764971051898, val dis=1.6859764971051898\n",
      "Epoch: 125, val gen=1.752685056413923, val dis=1.752685056413923\n",
      "Epoch: 126, val gen=1.5695404815673828, val dis=1.5695404815673828\n",
      "Epoch: 127, val gen=1.2565325927734374, val dis=1.2565325927734374\n",
      "Epoch: 128, val gen=0.9873624311174665, val dis=0.9873624311174665\n",
      "Epoch: 129, val gen=0.8223437772478376, val dis=0.8223437772478376\n",
      "Epoch: 130, val gen=0.7540205873761858, val dis=0.7540205873761858\n",
      "Epoch: 131, val gen=0.7537338420322963, val dis=0.7537338420322963\n",
      "Epoch: 132, val gen=0.8245507213047573, val dis=0.8245507213047573\n",
      "Epoch: 133, val gen=0.980834584917341, val dis=0.980834584917341\n",
      "Epoch: 134, val gen=1.24078734261649, val dis=1.24078734261649\n",
      "Epoch: 135, val gen=1.4741871316092354, val dis=1.4741871316092354\n",
      "Epoch: 136, val gen=1.588311080932617, val dis=1.588311080932617\n",
      "Epoch: 137, val gen=1.4765298897879464, val dis=1.4765298897879464\n",
      "Epoch: 138, val gen=1.374137213570731, val dis=1.374137213570731\n",
      "Epoch: 139, val gen=1.35098388671875, val dis=1.35098388671875\n",
      "Epoch: 140, val gen=1.3751063210623604, val dis=1.3751063210623604\n",
      "Epoch: 141, val gen=1.3407627650669642, val dis=1.3407627650669642\n",
      "Epoch: 142, val gen=1.1882327052525112, val dis=1.1882327052525112\n",
      "Epoch: 143, val gen=1.0871197073800223, val dis=1.0871197073800223\n",
      "Epoch: 144, val gen=1.0058777236938476, val dis=1.0058777236938476\n",
      "Epoch: 145, val gen=0.9993433925083706, val dis=0.9993433925083706\n",
      "Epoch: 146, val gen=1.0316973658970423, val dis=1.0316973658970423\n",
      "Epoch: 147, val gen=1.1306331416538784, val dis=1.1306331416538784\n",
      "Epoch: 148, val gen=1.3051190948486329, val dis=1.3051190948486329\n",
      "Epoch: 149, val gen=1.5040606253487723, val dis=1.5040606253487723\n",
      "Epoch: 150, val gen=1.7338240814208985, val dis=1.7338240814208985\n",
      "Epoch: 151, val gen=1.697478223528181, val dis=1.697478223528181\n",
      "Epoch: 152, val gen=1.4713683210100446, val dis=1.4713683210100446\n",
      "Epoch: 153, val gen=1.238046406337193, val dis=1.238046406337193\n",
      "Epoch: 154, val gen=1.1245409066336496, val dis=1.1245409066336496\n",
      "Epoch: 155, val gen=1.0915223257882254, val dis=1.0915223257882254\n",
      "Epoch: 156, val gen=1.1041040366036552, val dis=1.1041040366036552\n",
      "Epoch: 157, val gen=1.1415560586111886, val dis=1.1415560586111886\n",
      "Epoch: 158, val gen=1.223956069946289, val dis=1.223956069946289\n",
      "Epoch: 159, val gen=1.199542487008231, val dis=1.199542487008231\n",
      "Epoch: 160, val gen=1.1573322568620954, val dis=1.1573322568620954\n",
      "Epoch: 161, val gen=1.1777465384347099, val dis=1.1777465384347099\n",
      "Epoch: 162, val gen=1.2540956606183733, val dis=1.2540956606183733\n",
      "Epoch: 163, val gen=1.2802621350969587, val dis=1.2802621350969587\n",
      "Epoch: 164, val gen=1.310553686959403, val dis=1.310553686959403\n",
      "Epoch: 165, val gen=1.2800862448556083, val dis=1.2800862448556083\n",
      "Epoch: 166, val gen=1.1876698521205358, val dis=1.1876698521205358\n",
      "Epoch: 167, val gen=1.0823182460239955, val dis=1.0823182460239955\n",
      "Epoch: 168, val gen=1.0324281311035157, val dis=1.0324281311035157\n",
      "Epoch: 169, val gen=1.0405435943603516, val dis=1.0405435943603516\n",
      "Epoch: 170, val gen=1.1144849722726005, val dis=1.1144849722726005\n",
      "Epoch: 171, val gen=1.2326869528634208, val dis=1.2326869528634208\n",
      "Epoch: 172, val gen=1.3423735700334822, val dis=1.3423735700334822\n",
      "Epoch: 173, val gen=1.3844598061697824, val dis=1.3844598061697824\n",
      "Epoch: 174, val gen=1.325642536708287, val dis=1.325642536708287\n",
      "Epoch: 175, val gen=1.2751429857526506, val dis=1.2751429857526506\n",
      "Epoch: 176, val gen=1.2105134691510882, val dis=1.2105134691510882\n",
      "Epoch: 177, val gen=1.1616374642508371, val dis=1.1616374642508371\n",
      "Epoch: 178, val gen=1.1435777718680245, val dis=1.1435777718680245\n",
      "Epoch: 179, val gen=1.1566190556117466, val dis=1.1566190556117466\n",
      "Epoch: 180, val gen=1.1947286769321988, val dis=1.1947286769321988\n",
      "Epoch: 181, val gen=1.2595364597865513, val dis=1.2595364597865513\n",
      "Epoch: 182, val gen=1.2860364532470703, val dis=1.2860364532470703\n",
      "Epoch: 183, val gen=1.2362936183384488, val dis=1.2362936183384488\n",
      "Epoch: 184, val gen=1.1403611373901368, val dis=1.1403611373901368\n",
      "Epoch: 185, val gen=1.0254331752232142, val dis=1.0254331752232142\n",
      "Epoch: 186, val gen=0.9268614360264369, val dis=0.9268614360264369\n",
      "Epoch: 187, val gen=0.8953158351353236, val dis=0.8953158351353236\n",
      "Epoch: 188, val gen=0.9333494131905692, val dis=0.9333494131905692\n",
      "Epoch: 189, val gen=1.045542471749442, val dis=1.045542471749442\n",
      "Epoch: 190, val gen=1.2446556963239397, val dis=1.2446556963239397\n",
      "Epoch: 191, val gen=1.5084306335449218, val dis=1.5084306335449218\n",
      "Epoch: 192, val gen=1.5960344369070871, val dis=1.5960344369070871\n",
      "Epoch: 193, val gen=1.495451158796038, val dis=1.495451158796038\n",
      "Epoch: 194, val gen=1.2398534611293248, val dis=1.2398534611293248\n",
      "Epoch: 195, val gen=1.0154549080984934, val dis=1.0154549080984934\n",
      "Epoch: 196, val gen=0.9037201145717076, val dis=0.9037201145717076\n",
      "Epoch: 197, val gen=0.9265597425188337, val dis=0.9265597425188337\n",
      "Epoch: 198, val gen=1.016231940133231, val dis=1.016231940133231\n",
      "Epoch: 199, val gen=1.2081813703264508, val dis=1.2081813703264508\n",
      "Epoch: 200, val gen=1.3962979234967914, val dis=1.3962979234967914\n",
      "Epoch: 201, val gen=1.5342897033691407, val dis=1.5342897033691407\n",
      "Epoch: 202, val gen=1.4433909715924944, val dis=1.4433909715924944\n",
      "Epoch: 203, val gen=1.2877103642054966, val dis=1.2877103642054966\n",
      "Epoch: 204, val gen=1.1872701808384487, val dis=1.1872701808384487\n",
      "Epoch: 205, val gen=1.1129327719552176, val dis=1.1129327719552176\n",
      "Epoch: 206, val gen=1.1337861960274833, val dis=1.1337861960274833\n",
      "Epoch: 207, val gen=1.1877195739746094, val dis=1.1877195739746094\n",
      "Epoch: 208, val gen=1.2787871878487722, val dis=1.2787871878487722\n",
      "Epoch: 209, val gen=1.288771264212472, val dis=1.288771264212472\n",
      "Epoch: 210, val gen=1.1975271606445312, val dis=1.1975271606445312\n",
      "Epoch: 211, val gen=1.1223088673182897, val dis=1.1223088673182897\n",
      "Epoch: 212, val gen=1.109907684326172, val dis=1.109907684326172\n",
      "Epoch: 213, val gen=1.1831895119803293, val dis=1.1831895119803293\n",
      "Epoch: 214, val gen=1.297447738647461, val dis=1.297447738647461\n",
      "Epoch: 215, val gen=1.467730712890625, val dis=1.467730712890625\n",
      "Epoch: 216, val gen=1.564427228655134, val dis=1.564427228655134\n",
      "Epoch: 217, val gen=1.5803130994524275, val dis=1.5803130994524275\n",
      "Epoch: 218, val gen=1.517734407697405, val dis=1.517734407697405\n",
      "Epoch: 219, val gen=1.3819242640904017, val dis=1.3819242640904017\n",
      "Epoch: 220, val gen=1.2269924000331334, val dis=1.2269924000331334\n",
      "Epoch: 221, val gen=1.1522897338867188, val dis=1.1522897338867188\n",
      "Epoch: 222, val gen=1.1038849748883928, val dis=1.1038849748883928\n",
      "Epoch: 223, val gen=1.1123707962036133, val dis=1.1123707962036133\n",
      "Epoch: 224, val gen=1.1309783390590122, val dis=1.1309783390590122\n",
      "Epoch: 225, val gen=1.219824011666434, val dis=1.219824011666434\n",
      "Epoch: 226, val gen=1.3285825565883091, val dis=1.3285825565883091\n",
      "Epoch: 227, val gen=1.3666952841622488, val dis=1.3666952841622488\n",
      "Epoch: 228, val gen=1.4367233603341238, val dis=1.4367233603341238\n",
      "Epoch: 229, val gen=1.461171384538923, val dis=1.461171384538923\n",
      "Epoch: 230, val gen=1.5180686514718191, val dis=1.5180686514718191\n",
      "Epoch: 231, val gen=1.413248988560268, val dis=1.413248988560268\n",
      "Epoch: 232, val gen=1.2817927551269532, val dis=1.2817927551269532\n",
      "Epoch: 233, val gen=1.120904072352818, val dis=1.120904072352818\n",
      "Epoch: 234, val gen=1.033208966936384, val dis=1.033208966936384\n",
      "Epoch: 235, val gen=1.0832102639334542, val dis=1.0832102639334542\n",
      "Epoch: 236, val gen=1.1994434574672155, val dis=1.1994434574672155\n",
      "Epoch: 237, val gen=1.3228307669503347, val dis=1.3228307669503347\n",
      "Epoch: 238, val gen=1.4265308271135602, val dis=1.4265308271135602\n",
      "Epoch: 239, val gen=1.491304659162249, val dis=1.491304659162249\n",
      "Epoch: 240, val gen=1.4629741559709821, val dis=1.4629741559709821\n",
      "Epoch: 241, val gen=1.4608380126953124, val dis=1.4608380126953124\n",
      "Epoch: 242, val gen=1.4618480573381696, val dis=1.4618480573381696\n",
      "Epoch: 243, val gen=1.4772137233189173, val dis=1.4772137233189173\n",
      "Epoch: 244, val gen=1.4948821585518972, val dis=1.4948821585518972\n",
      "Epoch: 245, val gen=1.4158252607073103, val dis=1.4158252607073103\n",
      "Epoch: 246, val gen=1.3439578356061663, val dis=1.3439578356061663\n",
      "Epoch: 247, val gen=1.2426527622767858, val dis=1.2426527622767858\n",
      "Epoch: 248, val gen=1.182660664149693, val dis=1.182660664149693\n",
      "Epoch: 249, val gen=1.1605633871895926, val dis=1.1605633871895926\n",
      "Epoch: 250, val gen=1.1646239798409599, val dis=1.1646239798409599\n",
      "Epoch: 251, val gen=1.2251174817766461, val dis=1.2251174817766461\n",
      "Epoch: 252, val gen=1.368322470528739, val dis=1.368322470528739\n",
      "Epoch: 253, val gen=1.522107195172991, val dis=1.522107195172991\n",
      "Epoch: 254, val gen=1.6969244820731026, val dis=1.6969244820731026\n",
      "Epoch: 255, val gen=1.7011319623674666, val dis=1.7011319623674666\n",
      "Epoch: 256, val gen=1.4791552734375, val dis=1.4791552734375\n",
      "Epoch: 257, val gen=1.2578011975969587, val dis=1.2578011975969587\n",
      "Epoch: 258, val gen=1.1659161594935825, val dis=1.1659161594935825\n",
      "Epoch: 259, val gen=1.1096900503976004, val dis=1.1096900503976004\n",
      "Epoch: 260, val gen=1.0531602042061943, val dis=1.0531602042061943\n",
      "Epoch: 261, val gen=1.0335370309012277, val dis=1.0335370309012277\n",
      "Epoch: 262, val gen=1.0955088152204242, val dis=1.0955088152204242\n",
      "Epoch: 263, val gen=1.1835671997070312, val dis=1.1835671997070312\n",
      "Epoch: 264, val gen=1.3482409885951452, val dis=1.3482409885951452\n",
      "Epoch: 265, val gen=1.552354496547154, val dis=1.552354496547154\n",
      "Epoch: 266, val gen=1.5174085126604353, val dis=1.5174085126604353\n",
      "Epoch: 267, val gen=1.3807727813720703, val dis=1.3807727813720703\n",
      "Epoch: 268, val gen=1.2714086369105748, val dis=1.2714086369105748\n",
      "Epoch: 269, val gen=1.216857681274414, val dis=1.216857681274414\n",
      "Epoch: 270, val gen=1.1787622506277902, val dis=1.1787622506277902\n",
      "Epoch: 271, val gen=1.2154869406563895, val dis=1.2154869406563895\n",
      "Epoch: 272, val gen=1.3136320059640068, val dis=1.3136320059640068\n",
      "Epoch: 273, val gen=1.4236587524414062, val dis=1.4236587524414062\n",
      "Epoch: 274, val gen=1.4675802067347936, val dis=1.4675802067347936\n",
      "Epoch: 275, val gen=1.4016247994559152, val dis=1.4016247994559152\n",
      "Epoch: 276, val gen=1.3207064601353236, val dis=1.3207064601353236\n",
      "Epoch: 277, val gen=1.2420816040039062, val dis=1.2420816040039062\n",
      "Epoch: 278, val gen=1.2011460059029715, val dis=1.2011460059029715\n",
      "Epoch: 279, val gen=1.2164132254464286, val dis=1.2164132254464286\n",
      "Epoch: 280, val gen=1.2133958217075893, val dis=1.2133958217075893\n",
      "Epoch: 281, val gen=1.2481640625, val dis=1.2481640625\n",
      "Epoch: 282, val gen=1.2877101571219307, val dis=1.2877101571219307\n",
      "Epoch: 283, val gen=1.235905990600586, val dis=1.235905990600586\n",
      "Epoch: 284, val gen=1.2708692932128907, val dis=1.2708692932128907\n",
      "Epoch: 285, val gen=1.3016760580880302, val dis=1.3016760580880302\n",
      "Epoch: 286, val gen=1.3244250161307198, val dis=1.3244250161307198\n",
      "Epoch: 287, val gen=1.3893084498814174, val dis=1.3893084498814174\n",
      "Epoch: 288, val gen=1.3876069205147878, val dis=1.3876069205147878\n",
      "Epoch: 289, val gen=1.3601368495396204, val dis=1.3601368495396204\n",
      "Epoch: 290, val gen=1.2573864092145648, val dis=1.2573864092145648\n",
      "Epoch: 291, val gen=1.1673701477050782, val dis=1.1673701477050782\n",
      "Epoch: 292, val gen=1.0996415274483817, val dis=1.0996415274483817\n",
      "Epoch: 293, val gen=1.1018872833251954, val dis=1.1018872833251954\n",
      "Epoch: 294, val gen=1.1438467298235213, val dis=1.1438467298235213\n",
      "Epoch: 295, val gen=1.195498330252511, val dis=1.195498330252511\n",
      "Epoch: 296, val gen=1.3281632232666016, val dis=1.3281632232666016\n",
      "Epoch: 297, val gen=1.4305906568254743, val dis=1.4305906568254743\n",
      "Epoch: 298, val gen=1.5321856798444475, val dis=1.5321856798444475\n",
      "Epoch: 299, val gen=1.4799558367047991, val dis=1.4799558367047991\n",
      "Epoch: 300, val gen=1.3929549298967634, val dis=1.3929549298967634\n",
      "Epoch: 301, val gen=1.2943074144635882, val dis=1.2943074144635882\n",
      "Epoch: 302, val gen=1.210397458757673, val dis=1.210397458757673\n",
      "Epoch: 303, val gen=1.1678976331438338, val dis=1.1678976331438338\n",
      "Epoch: 304, val gen=1.2037614004952566, val dis=1.2037614004952566\n",
      "Epoch: 305, val gen=1.2672636195591518, val dis=1.2672636195591518\n",
      "Epoch: 306, val gen=1.3249082946777344, val dis=1.3249082946777344\n",
      "Epoch: 307, val gen=1.3269398062569755, val dis=1.3269398062569755\n",
      "Epoch: 308, val gen=1.3428304181780133, val dis=1.3428304181780133\n",
      "Epoch: 309, val gen=1.3012266540527344, val dis=1.3012266540527344\n",
      "Epoch: 310, val gen=1.270217296055385, val dis=1.270217296055385\n",
      "Epoch: 311, val gen=1.2512196895054408, val dis=1.2512196895054408\n",
      "Epoch: 312, val gen=1.226983925955636, val dis=1.226983925955636\n",
      "Epoch: 313, val gen=1.2606979152134488, val dis=1.2606979152134488\n",
      "Epoch: 314, val gen=1.3958501979282925, val dis=1.3958501979282925\n",
      "Epoch: 315, val gen=1.5280396488734653, val dis=1.5280396488734653\n",
      "Epoch: 316, val gen=1.5941189793178014, val dis=1.5941189793178014\n",
      "Epoch: 317, val gen=1.530457284109933, val dis=1.530457284109933\n",
      "Epoch: 318, val gen=1.5124014718191965, val dis=1.5124014718191965\n",
      "Epoch: 319, val gen=1.3865270124162947, val dis=1.3865270124162947\n",
      "Epoch: 320, val gen=1.1990645054408482, val dis=1.1990645054408482\n",
      "Epoch: 321, val gen=1.0915676879882812, val dis=1.0915676879882812\n",
      "Epoch: 322, val gen=1.033936674935477, val dis=1.033936674935477\n",
      "Epoch: 323, val gen=0.9911582401820591, val dis=0.9911582401820591\n",
      "Epoch: 324, val gen=1.0196478162493026, val dis=1.0196478162493026\n",
      "Epoch: 325, val gen=1.1117159162248884, val dis=1.1117159162248884\n",
      "Epoch: 326, val gen=1.2371873910086495, val dis=1.2371873910086495\n",
      "Epoch: 327, val gen=1.346028780255999, val dis=1.346028780255999\n",
      "Epoch: 328, val gen=1.4498395538330078, val dis=1.4498395538330078\n",
      "Epoch: 329, val gen=1.4872130911690848, val dis=1.4872130911690848\n",
      "Epoch: 330, val gen=1.4339512198311941, val dis=1.4339512198311941\n",
      "Epoch: 331, val gen=1.3435129111153739, val dis=1.3435129111153739\n",
      "Epoch: 332, val gen=1.2762180873325892, val dis=1.2762180873325892\n",
      "Epoch: 333, val gen=1.2440193721226283, val dis=1.2440193721226283\n",
      "Epoch: 334, val gen=1.1825866263253348, val dis=1.1825866263253348\n",
      "Epoch: 335, val gen=1.0933053425380161, val dis=1.0933053425380161\n",
      "Epoch: 336, val gen=1.0562475531441824, val dis=1.0562475531441824\n",
      "Epoch: 337, val gen=1.09337527683803, val dis=1.09337527683803\n",
      "Epoch: 338, val gen=1.1437961687360492, val dis=1.1437961687360492\n",
      "Epoch: 339, val gen=1.266541508265904, val dis=1.266541508265904\n",
      "Epoch: 340, val gen=1.3025915963309151, val dis=1.3025915963309151\n",
      "Epoch: 341, val gen=1.3051116289411273, val dis=1.3051116289411273\n",
      "Epoch: 342, val gen=1.396964340209961, val dis=1.396964340209961\n",
      "Epoch: 343, val gen=1.491595197405134, val dis=1.491595197405134\n",
      "Epoch: 344, val gen=1.4222054508754185, val dis=1.4222054508754185\n",
      "Epoch: 345, val gen=1.2733937835693359, val dis=1.2733937835693359\n",
      "Epoch: 346, val gen=1.1874104636056082, val dis=1.1874104636056082\n",
      "Epoch: 347, val gen=1.1671036529541015, val dis=1.1671036529541015\n",
      "Epoch: 348, val gen=1.2193753269740513, val dis=1.2193753269740513\n",
      "Epoch: 349, val gen=1.2502753666469029, val dis=1.2502753666469029\n",
      "Epoch: 350, val gen=1.2968264988490514, val dis=1.2968264988490514\n",
      "Epoch: 351, val gen=1.3201099177769253, val dis=1.3201099177769253\n",
      "Epoch: 352, val gen=1.1599629865373884, val dis=1.1599629865373884\n",
      "Epoch: 353, val gen=1.0473405511038645, val dis=1.0473405511038645\n",
      "Epoch: 354, val gen=0.9849860327584403, val dis=0.9849860327584403\n",
      "Epoch: 355, val gen=0.9461647360665457, val dis=0.9461647360665457\n",
      "Epoch: 356, val gen=0.9568470546177456, val dis=0.9568470546177456\n",
      "Epoch: 357, val gen=1.0709334455217634, val dis=1.0709334455217634\n",
      "Epoch: 358, val gen=1.2856954847063338, val dis=1.2856954847063338\n",
      "Epoch: 359, val gen=1.430322276524135, val dis=1.430322276524135\n",
      "Epoch: 360, val gen=1.5807660130092076, val dis=1.5807660130092076\n",
      "Epoch: 361, val gen=1.533262438092913, val dis=1.533262438092913\n",
      "Epoch: 362, val gen=1.3593812888009207, val dis=1.3593812888009207\n",
      "Epoch: 363, val gen=1.2307205200195312, val dis=1.2307205200195312\n",
      "Epoch: 364, val gen=1.1375756181989398, val dis=1.1375756181989398\n",
      "Epoch: 365, val gen=1.1209104701450894, val dis=1.1209104701450894\n",
      "Epoch: 366, val gen=1.1432673971993583, val dis=1.1432673971993583\n",
      "Epoch: 367, val gen=1.1761710684640068, val dis=1.1761710684640068\n",
      "Epoch: 368, val gen=1.2695638602120536, val dis=1.2695638602120536\n",
      "Epoch: 369, val gen=1.4192181069510323, val dis=1.4192181069510323\n",
      "Epoch: 370, val gen=1.4611538696289061, val dis=1.4611538696289061\n",
      "Epoch: 371, val gen=1.5292646135602679, val dis=1.5292646135602679\n",
      "Epoch: 372, val gen=1.4725636182512556, val dis=1.4725636182512556\n",
      "Epoch: 373, val gen=1.3196477835518974, val dis=1.3196477835518974\n",
      "Epoch: 374, val gen=1.088023212977818, val dis=1.088023212977818\n",
      "Epoch: 375, val gen=0.925233383178711, val dis=0.925233383178711\n",
      "Epoch: 376, val gen=0.8575520161220006, val dis=0.8575520161220006\n",
      "Epoch: 377, val gen=0.907955071585519, val dis=0.907955071585519\n",
      "Epoch: 378, val gen=0.9967810440063477, val dis=0.9967810440063477\n",
      "Epoch: 379, val gen=1.1420960998535157, val dis=1.1420960998535157\n",
      "Epoch: 380, val gen=1.260581065586635, val dis=1.260581065586635\n",
      "Epoch: 381, val gen=1.443575919015067, val dis=1.443575919015067\n",
      "Epoch: 382, val gen=1.4970890372140067, val dis=1.4970890372140067\n",
      "Epoch: 383, val gen=1.490985630580357, val dis=1.490985630580357\n",
      "Epoch: 384, val gen=1.4268739972795759, val dis=1.4268739972795759\n",
      "Epoch: 385, val gen=1.3155191584995816, val dis=1.3155191584995816\n",
      "Epoch: 386, val gen=1.2283539363316127, val dis=1.2283539363316127\n",
      "Epoch: 387, val gen=1.1779978397914341, val dis=1.1779978397914341\n",
      "Epoch: 388, val gen=1.165739473615374, val dis=1.165739473615374\n",
      "Epoch: 389, val gen=1.1731809561593192, val dis=1.1731809561593192\n",
      "Epoch: 390, val gen=1.1759822300502232, val dis=1.1759822300502232\n",
      "Epoch: 391, val gen=1.147823726109096, val dis=1.147823726109096\n",
      "Epoch: 392, val gen=1.1862047031947545, val dis=1.1862047031947545\n",
      "Epoch: 393, val gen=1.2399107033865793, val dis=1.2399107033865793\n",
      "Epoch: 394, val gen=1.274691369192941, val dis=1.274691369192941\n",
      "Epoch: 395, val gen=1.3802359989711217, val dis=1.3802359989711217\n",
      "Epoch: 396, val gen=1.4970732770647321, val dis=1.4970732770647321\n",
      "Epoch: 397, val gen=1.5398794664655413, val dis=1.5398794664655413\n",
      "Epoch: 398, val gen=1.4684589712960379, val dis=1.4684589712960379\n",
      "Epoch: 399, val gen=1.393693313598633, val dis=1.393693313598633\n",
      "Epoch: 400, val gen=1.3410207366943359, val dis=1.3410207366943359\n",
      "Epoch: 401, val gen=1.2663135092599052, val dis=1.2663135092599052\n",
      "Epoch: 402, val gen=1.2371258108956473, val dis=1.2371258108956473\n",
      "Epoch: 403, val gen=1.209993427821568, val dis=1.209993427821568\n",
      "Epoch: 404, val gen=1.2041668592180526, val dis=1.2041668592180526\n",
      "Epoch: 405, val gen=1.2396183558872769, val dis=1.2396183558872769\n",
      "Epoch: 406, val gen=1.2642024557931082, val dis=1.2642024557931082\n",
      "Epoch: 407, val gen=1.322590081351144, val dis=1.322590081351144\n",
      "Epoch: 408, val gen=1.407835911342076, val dis=1.407835911342076\n",
      "Epoch: 409, val gen=1.4304493386404855, val dis=1.4304493386404855\n",
      "Epoch: 410, val gen=1.4393664332798548, val dis=1.4393664332798548\n",
      "Epoch: 411, val gen=1.4422772543770925, val dis=1.4422772543770925\n",
      "Epoch: 412, val gen=1.424588383265904, val dis=1.424588383265904\n",
      "Epoch: 413, val gen=1.4813743482317243, val dis=1.4813743482317243\n",
      "Epoch: 414, val gen=1.4519318389892577, val dis=1.4519318389892577\n",
      "Epoch: 415, val gen=1.4144490378243582, val dis=1.4144490378243582\n",
      "Epoch: 416, val gen=1.3177446964808872, val dis=1.3177446964808872\n",
      "Epoch: 417, val gen=1.2852698952811106, val dis=1.2852698952811106\n",
      "Epoch: 418, val gen=1.3389401136125838, val dis=1.3389401136125838\n",
      "Epoch: 419, val gen=1.4147420828683035, val dis=1.4147420828683035\n",
      "Epoch: 420, val gen=1.5123307255336216, val dis=1.5123307255336216\n",
      "Epoch: 421, val gen=1.497135216849191, val dis=1.497135216849191\n",
      "Epoch: 422, val gen=1.4578209795270647, val dis=1.4578209795270647\n",
      "Epoch: 423, val gen=1.3755399104527064, val dis=1.3755399104527064\n",
      "Epoch: 424, val gen=1.3290591430664063, val dis=1.3290591430664063\n",
      "Epoch: 425, val gen=1.2608129119873046, val dis=1.2608129119873046\n",
      "Epoch: 426, val gen=1.1969006783621652, val dis=1.1969006783621652\n",
      "Epoch: 427, val gen=1.194202128819057, val dis=1.194202128819057\n",
      "Epoch: 428, val gen=1.2188413565499443, val dis=1.2188413565499443\n",
      "Epoch: 429, val gen=1.2452830396379744, val dis=1.2452830396379744\n",
      "Epoch: 430, val gen=1.3743673052106584, val dis=1.3743673052106584\n",
      "Epoch: 431, val gen=1.4470926775251116, val dis=1.4470926775251116\n",
      "Epoch: 432, val gen=1.4604407283238001, val dis=1.4604407283238001\n",
      "Epoch: 433, val gen=1.3952230834960937, val dis=1.3952230834960937\n",
      "Epoch: 434, val gen=1.3212029157366072, val dis=1.3212029157366072\n",
      "Epoch: 435, val gen=1.2818782152448382, val dis=1.2818782152448382\n",
      "Epoch: 436, val gen=1.2465109688895089, val dis=1.2465109688895089\n",
      "Epoch: 437, val gen=1.2341321781703405, val dis=1.2341321781703405\n",
      "Epoch: 438, val gen=1.2138621738978794, val dis=1.2138621738978794\n",
      "Epoch: 439, val gen=1.1824344417027064, val dis=1.1824344417027064\n",
      "Epoch: 440, val gen=1.1925144958496094, val dis=1.1925144958496094\n",
      "Epoch: 441, val gen=1.2578556060791015, val dis=1.2578556060791015\n",
      "Epoch: 442, val gen=1.3027408490862165, val dis=1.3027408490862165\n",
      "Epoch: 443, val gen=1.423136237008231, val dis=1.423136237008231\n",
      "Epoch: 444, val gen=1.499743870326451, val dis=1.499743870326451\n",
      "Epoch: 445, val gen=1.5380388532366072, val dis=1.5380388532366072\n",
      "Epoch: 446, val gen=1.5003099496023995, val dis=1.5003099496023995\n",
      "Epoch: 447, val gen=1.4506035614013673, val dis=1.4506035614013673\n",
      "Epoch: 448, val gen=1.3253475843157088, val dis=1.3253475843157088\n",
      "Epoch: 449, val gen=1.2080504608154297, val dis=1.2080504608154297\n",
      "Epoch: 450, val gen=1.1448285348074776, val dis=1.1448285348074776\n",
      "Epoch: 451, val gen=1.1273114449637276, val dis=1.1273114449637276\n",
      "Epoch: 452, val gen=1.160570286342076, val dis=1.160570286342076\n",
      "Epoch: 453, val gen=1.2360942077636718, val dis=1.2360942077636718\n",
      "Epoch: 454, val gen=1.3466976928710936, val dis=1.3466976928710936\n",
      "Epoch: 455, val gen=1.3328257860456194, val dis=1.3328257860456194\n",
      "Epoch: 456, val gen=1.3441387285505022, val dis=1.3441387285505022\n",
      "Epoch: 457, val gen=1.2900887407575334, val dis=1.2900887407575334\n",
      "Epoch: 458, val gen=1.266601072038923, val dis=1.266601072038923\n",
      "Epoch: 459, val gen=1.217425809587751, val dis=1.217425809587751\n",
      "Epoch: 460, val gen=1.182063206263951, val dis=1.182063206263951\n",
      "Epoch: 461, val gen=1.2262927900041853, val dis=1.2262927900041853\n",
      "Epoch: 462, val gen=1.2725513240269253, val dis=1.2725513240269253\n",
      "Epoch: 463, val gen=1.310039563860212, val dis=1.310039563860212\n",
      "Epoch: 464, val gen=1.3800405665806361, val dis=1.3800405665806361\n",
      "Epoch: 465, val gen=1.421139875139509, val dis=1.421139875139509\n",
      "Epoch: 466, val gen=1.4301844024658203, val dis=1.4301844024658203\n",
      "Epoch: 467, val gen=1.449689679827009, val dis=1.449689679827009\n",
      "Epoch: 468, val gen=1.4271231624058314, val dis=1.4271231624058314\n",
      "Epoch: 469, val gen=1.3179713657924108, val dis=1.3179713657924108\n",
      "Epoch: 470, val gen=1.2798956407819475, val dis=1.2798956407819475\n",
      "Epoch: 471, val gen=1.2456507110595703, val dis=1.2456507110595703\n",
      "Epoch: 472, val gen=1.2924549538748604, val dis=1.2924549538748604\n",
      "Epoch: 473, val gen=1.3882588958740234, val dis=1.3882588958740234\n",
      "Epoch: 474, val gen=1.460931396484375, val dis=1.460931396484375\n",
      "Epoch: 475, val gen=1.4935436030796596, val dis=1.4935436030796596\n",
      "Epoch: 476, val gen=1.379019274030413, val dis=1.379019274030413\n",
      "Epoch: 477, val gen=1.3113302612304687, val dis=1.3113302612304687\n",
      "Epoch: 478, val gen=1.269944359915597, val dis=1.269944359915597\n",
      "Epoch: 479, val gen=1.2662103053501674, val dis=1.2662103053501674\n",
      "Epoch: 480, val gen=1.2685518755231584, val dis=1.2685518755231584\n",
      "Epoch: 481, val gen=1.2412466539655413, val dis=1.2412466539655413\n",
      "Epoch: 482, val gen=1.2029007611955915, val dis=1.2029007611955915\n",
      "Epoch: 483, val gen=1.2215548379080636, val dis=1.2215548379080636\n",
      "Epoch: 484, val gen=1.2950529479980468, val dis=1.2950529479980468\n",
      "Epoch: 485, val gen=1.4654653058733258, val dis=1.4654653058733258\n",
      "Epoch: 486, val gen=1.6621328408377511, val dis=1.6621328408377511\n",
      "Epoch: 487, val gen=1.6892072514125278, val dis=1.6892072514125278\n",
      "Epoch: 488, val gen=1.5681514086042132, val dis=1.5681514086042132\n",
      "Epoch: 489, val gen=1.380041721888951, val dis=1.380041721888951\n",
      "Epoch: 490, val gen=1.2461729976109095, val dis=1.2461729976109095\n",
      "Epoch: 491, val gen=1.1854383959089008, val dis=1.1854383959089008\n",
      "Epoch: 492, val gen=1.1886013466971261, val dis=1.1886013466971261\n",
      "Epoch: 493, val gen=1.2352733285086495, val dis=1.2352733285086495\n",
      "Epoch: 494, val gen=1.247445308140346, val dis=1.247445308140346\n",
      "Epoch: 495, val gen=1.3116646684919084, val dis=1.3116646684919084\n",
      "Epoch: 496, val gen=1.3364950779506137, val dis=1.3364950779506137\n",
      "Epoch: 497, val gen=1.3738192858014788, val dis=1.3738192858014788\n",
      "Epoch: 498, val gen=1.4779553549630302, val dis=1.4779553549630302\n",
      "Epoch: 499, val gen=1.5474632917131697, val dis=1.5474632917131697\n"
     ]
    }
   ],
   "source": [
    "# Training procedure\n",
    "gen_val, dis_val = training(name=result_dir + name, \n",
    "                            num_epochs=num_epochs, \n",
    "                            model=model, \n",
    "                            optimizer_gen=optimizer_gen,\n",
    "                            optimizer_dis=optimizer_dis,\n",
    "                            training_loader=training_loader, \n",
    "                            val_loader=val_loader)"
   ]
  },
  {
   "cell_type": "markdown",
   "metadata": {
    "id": "-3XTxgEcNXfp"
   },
   "source": [
    "**The final evaluation**"
   ]
  },
  {
   "cell_type": "code",
   "execution_count": 15,
   "metadata": {},
   "outputs": [],
   "source": [
    "def samples_real(name, test_loader):\n",
    "    # REAL-------\n",
    "    num_x = 4\n",
    "    num_y = 4\n",
    "    x = next(iter(test_loader)).detach().numpy()\n",
    "\n",
    "    fig, ax = plt.subplots(num_x, num_y)\n",
    "    for i, ax in enumerate(ax.flatten()):\n",
    "        plottable_image = np.reshape(x[i], (8, 8))\n",
    "        ax.imshow(plottable_image, cmap='gray')\n",
    "        ax.axis('off')\n",
    "\n",
    "    "
   ]
  },
  {
   "cell_type": "code",
   "execution_count": 16,
   "metadata": {
    "colab": {
     "base_uri": "https://localhost:8080/"
    },
    "id": "okK1mV_-LrRU",
    "outputId": "4664693f-742d-4453-94cf-d051d2efa9be"
   },
   "outputs": [
    {
     "name": "stderr",
     "output_type": "stream",
     "text": [
      "/var/folders/87/zv8dxhh11ml31r07v761nk340000gn/T/ipykernel_33450/3141414528.py:5: FutureWarning: You are using `torch.load` with `weights_only=False` (the current default value), which uses the default pickle module implicitly. It is possible to construct malicious pickle data which will execute arbitrary code during unpickling (See https://github.com/pytorch/pytorch/blob/main/SECURITY.md#untrusted-models for more details). In a future release, the default value for `weights_only` will be flipped to `True`. This limits the functions that could be executed during unpickling. Arbitrary objects will no longer be allowed to be loaded via this mode unless they are explicitly allowlisted by the user via `torch.serialization.add_safe_globals`. We recommend you start setting `weights_only=True` for any use case where you don't have full control of the loaded file. Please open an issue on GitHub for any issues related to this experimental feature.\n",
      "  model_best = torch.load(name + '.model')\n"
     ]
    },
    {
     "name": "stdout",
     "output_type": "stream",
     "text": [
      "FINAL LOSS: gen=-0.7219571960585762, dis=1.547445105226248\n"
     ]
    },
    {
     "name": "stderr",
     "output_type": "stream",
     "text": [
      "/var/folders/87/zv8dxhh11ml31r07v761nk340000gn/T/ipykernel_33450/3141414528.py:51: FutureWarning: You are using `torch.load` with `weights_only=False` (the current default value), which uses the default pickle module implicitly. It is possible to construct malicious pickle data which will execute arbitrary code during unpickling (See https://github.com/pytorch/pytorch/blob/main/SECURITY.md#untrusted-models for more details). In a future release, the default value for `weights_only` will be flipped to `True`. This limits the functions that could be executed during unpickling. Arbitrary objects will no longer be allowed to be loaded via this mode unless they are explicitly allowlisted by the user via `torch.serialization.add_safe_globals`. We recommend you start setting `weights_only=True` for any use case where you don't have full control of the loaded file. Please open an issue on GitHub for any issues related to this experimental feature.\n",
      "  model_best = torch.load(name + '.model')\n"
     ]
    }
   ],
   "source": [
    "test_gen_loss, test_dis_loss = evaluation(name=result_dir + name, test_loader=test_loader)\n",
    "f = open(result_dir + name + '_test_loss.txt', \"w\")\n",
    "f.write(str(test_gen_loss))\n",
    "f.write('\\n')\n",
    "f.write(str(test_dis_loss))\n",
    "f.close()\n",
    "\n",
    "samples_real(result_dir + name, test_loader)\n",
    "\n",
    "plot_curve(result_dir + name + '_gen', gen_val, yaxis='$log(1-D(G(z))$')\n",
    "plot_curve(result_dir + name + '_dis', dis_val, yaxis='$-(log(1-D(G(z)) + log(D(x)))$')\n",
    "\n",
    "samples_generated(result_dir + name, test_loader, extra_name='FINAL')"
   ]
  },
  {
   "cell_type": "code",
   "execution_count": 17,
   "metadata": {},
   "outputs": [
    {
     "data": {
      "image/png": "[encoded data removed]",
      "text/plain": [
       "<Figure size 640x480 with 16 Axes>"
      ]
     },
     "metadata": {},
     "output_type": "display_data"
    }
   ],
   "source": [
    "samples_real(result_dir + name, test_loader)"
   ]
  },
  {
   "cell_type": "code",
   "execution_count": 18,
   "metadata": {},
   "outputs": [
    {
     "name": "stderr",
     "output_type": "stream",
     "text": [
      "/var/folders/87/zv8dxhh11ml31r07v761nk340000gn/T/ipykernel_33450/3141414528.py:51: FutureWarning: You are using `torch.load` with `weights_only=False` (the current default value), which uses the default pickle module implicitly. It is possible to construct malicious pickle data which will execute arbitrary code during unpickling (See https://github.com/pytorch/pytorch/blob/main/SECURITY.md#untrusted-models for more details). In a future release, the default value for `weights_only` will be flipped to `True`. This limits the functions that could be executed during unpickling. Arbitrary objects will no longer be allowed to be loaded via this mode unless they are explicitly allowlisted by the user via `torch.serialization.add_safe_globals`. We recommend you start setting `weights_only=True` for any use case where you don't have full control of the loaded file. Please open an issue on GitHub for any issues related to this experimental feature.\n",
      "  model_best = torch.load(name + '.model')\n"
     ]
    }
   ],
   "source": [
    "samples_generated(result_dir + name, test_loader, extra_name='FINAL')"
   ]
  },
  {
   "cell_type": "code",
   "execution_count": null,
   "metadata": {},
   "outputs": [],
   "source": []
  }
 ],
 "metadata": {
  "colab": {
   "collapsed_sections": [],
   "name": "vae_priors.ipynb",
   "provenance": []
  },
  "kernelspec": {
   "display_name": "VoiceAI",
   "language": "python",
   "name": "python3"
  },
  "language_info": {
   "codemirror_mode": {
    "name": "ipython",
    "version": 3
   },
   "file_extension": ".py",
   "mimetype": "text/x-python",
   "name": "python",
   "nbconvert_exporter": "python",
   "pygments_lexer": "ipython3",
   "version": "3.11.8"
  }
 },
 "nbformat": 4,
 "nbformat_minor": 1
}
